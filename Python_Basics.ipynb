{
  "nbformat": 4,
  "nbformat_minor": 0,
  "metadata": {
    "colab": {
      "provenance": []
    },
    "kernelspec": {
      "name": "python3",
      "display_name": "Python 3"
    },
    "language_info": {
      "name": "python"
    }
  },
  "cells": [
    {
      "cell_type": "markdown",
      "source": [
        "# **Basics of Python**\n",
        "\n",
        "## Various data types in python\n",
        "## Variable\n",
        "## Variables Assignment\n",
        "## Print Formating"
      ],
      "metadata": {
        "id": "8o_dtwXMNSjw"
      }
    },
    {
      "cell_type": "markdown",
      "source": [
        "#**Various Datatypes in Python**"
      ],
      "metadata": {
        "id": "JGl-BxkFOCXr"
      }
    },
    {
      "cell_type": "markdown",
      "source": [
        "##**Numbers**"
      ],
      "metadata": {
        "id": "xhtiEP7nOL84"
      }
    },
    {
      "cell_type": "code",
      "execution_count": 2,
      "metadata": {
        "colab": {
          "base_uri": "https://localhost:8080/"
        },
        "id": "t6jAGbDyNIHO",
        "outputId": "9f2cc0d6-1d08-416d-a338-34168fac62af"
      },
      "outputs": [
        {
          "output_type": "execute_result",
          "data": {
            "text/plain": [
              "2"
            ]
          },
          "metadata": {},
          "execution_count": 2
        }
      ],
      "source": [
        "1+1  # Addition"
      ]
    },
    {
      "cell_type": "code",
      "source": [
        "4*5 # Multiplication"
      ],
      "metadata": {
        "colab": {
          "base_uri": "https://localhost:8080/"
        },
        "id": "80ZO2cE4OUVj",
        "outputId": "2b05a6b3-e50e-4f76-9800-b793410fe1ab"
      },
      "execution_count": 3,
      "outputs": [
        {
          "output_type": "execute_result",
          "data": {
            "text/plain": [
              "20"
            ]
          },
          "metadata": {},
          "execution_count": 3
        }
      ]
    },
    {
      "cell_type": "code",
      "source": [
        "6/3 # Divison"
      ],
      "metadata": {
        "colab": {
          "base_uri": "https://localhost:8080/"
        },
        "id": "SlehCpj3OnOQ",
        "outputId": "6a9c223f-e77f-4cdd-9ae3-0b08b4668703"
      },
      "execution_count": 4,
      "outputs": [
        {
          "output_type": "execute_result",
          "data": {
            "text/plain": [
              "2.0"
            ]
          },
          "metadata": {},
          "execution_count": 4
        }
      ]
    },
    {
      "cell_type": "code",
      "source": [
        "20**2 # Power"
      ],
      "metadata": {
        "colab": {
          "base_uri": "https://localhost:8080/"
        },
        "id": "XsNlHbW9ToJY",
        "outputId": "7ba63083-b940-4f8f-e4a0-0c602503c3d7"
      },
      "execution_count": 5,
      "outputs": [
        {
          "output_type": "execute_result",
          "data": {
            "text/plain": [
              "400"
            ]
          },
          "metadata": {},
          "execution_count": 5
        }
      ]
    },
    {
      "cell_type": "code",
      "source": [
        "# Example with strings\n",
        "5 * \"saivivek \""
      ],
      "metadata": {
        "colab": {
          "base_uri": "https://localhost:8080/",
          "height": 36
        },
        "id": "-BTtNOxCTtaz",
        "outputId": "2b235fc4-4795-4712-ed55-e9ea412fbad0"
      },
      "execution_count": 10,
      "outputs": [
        {
          "output_type": "execute_result",
          "data": {
            "text/plain": [
              "'saivivek saivivek saivivek saivivek saivivek '"
            ],
            "application/vnd.google.colaboratory.intrinsic+json": {
              "type": "string"
            }
          },
          "metadata": {},
          "execution_count": 10
        }
      ]
    },
    {
      "cell_type": "markdown",
      "source": [
        "# **Checking DataTypes**"
      ],
      "metadata": {
        "id": "VXLwEbU6UkdK"
      }
    },
    {
      "cell_type": "code",
      "source": [
        "type(\"sai\")  # Datatype string"
      ],
      "metadata": {
        "colab": {
          "base_uri": "https://localhost:8080/"
        },
        "id": "ON3QHDYYUXbc",
        "outputId": "95c2de81-d471-4c9a-c193-ffe3ca3f2498"
      },
      "execution_count": 12,
      "outputs": [
        {
          "output_type": "execute_result",
          "data": {
            "text/plain": [
              "str"
            ]
          },
          "metadata": {},
          "execution_count": 12
        }
      ]
    },
    {
      "cell_type": "code",
      "source": [
        "type(10) # DataType Int"
      ],
      "metadata": {
        "colab": {
          "base_uri": "https://localhost:8080/"
        },
        "id": "w7NmB703UyJl",
        "outputId": "9cb83a0f-e637-40a2-99e6-ab8d7454ae54"
      },
      "execution_count": 13,
      "outputs": [
        {
          "output_type": "execute_result",
          "data": {
            "text/plain": [
              "int"
            ]
          },
          "metadata": {},
          "execution_count": 13
        }
      ]
    },
    {
      "cell_type": "code",
      "source": [
        "type(10.0) # DataType Float"
      ],
      "metadata": {
        "colab": {
          "base_uri": "https://localhost:8080/"
        },
        "id": "obQ6R42tU-47",
        "outputId": "d83c828c-8d8a-42e7-ba66-0995d8a114de"
      },
      "execution_count": 14,
      "outputs": [
        {
          "output_type": "execute_result",
          "data": {
            "text/plain": [
              "float"
            ]
          },
          "metadata": {},
          "execution_count": 14
        }
      ]
    },
    {
      "cell_type": "code",
      "source": [
        "type(True) # DataType Bool"
      ],
      "metadata": {
        "colab": {
          "base_uri": "https://localhost:8080/"
        },
        "id": "sibDVObeVE1J",
        "outputId": "a06c952b-1069-4db6-a946-ca907be4e7f3"
      },
      "execution_count": 15,
      "outputs": [
        {
          "output_type": "execute_result",
          "data": {
            "text/plain": [
              "bool"
            ]
          },
          "metadata": {},
          "execution_count": 15
        }
      ]
    },
    {
      "cell_type": "markdown",
      "source": [
        "# **Variable Assignment**"
      ],
      "metadata": {
        "id": "WveLDkQbVmFI"
      }
    },
    {
      "cell_type": "code",
      "source": [
        "# variable = Value\n",
        "\n",
        "a=10  # where \"a\" is Variable and \"10\" is Value"
      ],
      "metadata": {
        "id": "5HBSxj_-VQqv"
      },
      "execution_count": null,
      "outputs": []
    },
    {
      "cell_type": "code",
      "source": [
        "# Mathematical Operation with Variable Assignment\n",
        "\n",
        "a= 10\n",
        "b= 20"
      ],
      "metadata": {
        "id": "jzs6rRNZW_Qs"
      },
      "execution_count": 16,
      "outputs": []
    },
    {
      "cell_type": "code",
      "source": [
        "print(a*b)\n",
        "print(a+b)\n",
        "print(a/b)\n",
        "print(a//b)  # Reminder\n",
        "print(a**b)\n",
        "print((a*b)+(a+b))     # Follows Bodmas Rule"
      ],
      "metadata": {
        "colab": {
          "base_uri": "https://localhost:8080/"
        },
        "id": "PfIsutNUXNAV",
        "outputId": "805f156a-6623-40a2-f2d3-9f4c509ef0de"
      },
      "execution_count": 20,
      "outputs": [
        {
          "output_type": "stream",
          "name": "stdout",
          "text": [
            "200\n",
            "30\n",
            "0.5\n",
            "0\n",
            "100000000000000000000\n",
            "230\n"
          ]
        }
      ]
    },
    {
      "cell_type": "markdown",
      "source": [
        "# **Various ways of Printing**"
      ],
      "metadata": {
        "id": "UhqpXpk9aZXP"
      }
    },
    {
      "cell_type": "code",
      "source": [
        "print(\"Hello\")"
      ],
      "metadata": {
        "colab": {
          "base_uri": "https://localhost:8080/"
        },
        "id": "nNwrTqYWXhB-",
        "outputId": "ead5dd61-829d-4676-81bc-da80bdf276d6"
      },
      "execution_count": 21,
      "outputs": [
        {
          "output_type": "stream",
          "name": "stdout",
          "text": [
            "Hello\n"
          ]
        }
      ]
    },
    {
      "cell_type": "code",
      "source": [
        "First_name = \"sai\"\n",
        "Last_name = \"Vivek\""
      ],
      "metadata": {
        "id": "CYMa4fPraqL-"
      },
      "execution_count": 22,
      "outputs": []
    },
    {
      "cell_type": "code",
      "source": [
        "print(\"my first name is {} and my last name is {}\".format(First_name,Last_name))"
      ],
      "metadata": {
        "colab": {
          "base_uri": "https://localhost:8080/"
        },
        "id": "jlWxTOrLa5Lb",
        "outputId": "3e016647-b630-4eda-8015-295d8d8d7063"
      },
      "execution_count": 24,
      "outputs": [
        {
          "output_type": "stream",
          "name": "stdout",
          "text": [
            "my first name is sai and my last name is Vivek\n"
          ]
        }
      ]
    },
    {
      "cell_type": "code",
      "source": [
        "print(\"my first name is {FirstName} and my last name is {LastName}\".format(FirstName=First_name,LastName=Last_name))"
      ],
      "metadata": {
        "colab": {
          "base_uri": "https://localhost:8080/"
        },
        "id": "cVFTaU34bfZ6",
        "outputId": "092843a4-256e-4006-838c-22f9640eb84c"
      },
      "execution_count": 25,
      "outputs": [
        {
          "output_type": "stream",
          "name": "stdout",
          "text": [
            "my first name is sai and my last name is Vivek\n"
          ]
        }
      ]
    },
    {
      "cell_type": "code",
      "source": [],
      "metadata": {
        "id": "3U0zmdx8cEYx"
      },
      "execution_count": null,
      "outputs": []
    }
  ]
}